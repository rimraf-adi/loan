{
 "cells": [
  {
   "cell_type": "markdown",
   "metadata": {},
   "source": [
    "## Loan Default Prediction: A Machine Learning Approach\n",
    "### The goal of this project is to determine the likelihood of loan approval for an applicant.\n",
    "The dataset used in this project is synthetically generated and is part of the Kaggle Playground Series. It does not represent real-world data and is intended solely for educational and research purposes.\n",
    "For more information, please visit https://tinyurl.com/bddx28a5\n"
   ]
  },
  {
   "cell_type": "code",
   "execution_count": 139,
   "metadata": {},
   "outputs": [],
   "source": [
    "import pandas as pd\n",
    "import matplotlib.pyplot as plt\n",
    "from tabulate import tabulate"
   ]
  },
  {
   "cell_type": "code",
   "execution_count": 156,
   "metadata": {},
   "outputs": [],
   "source": [
    "def view(df: pd.DataFrame,nsummary=False,dtypesummary=False,missingPlot=False,uniquePlot=False):\n",
    "    print('A visual display of the dataset')\n",
    "    print(tabulate(df.head(),tablefmt='pretty'))\n",
    "    if nsummary:\n",
    "        print('\\nA Numeric Summary of the dataset')\n",
    "        print(tabulate(df.describe(), tablefmt='pretty'))\n",
    "    if dtypesummary:\n",
    "        display(df.info())\n",
    "    \n",
    "\n",
    "\n",
    "\n"
   ]
  },
  {
   "cell_type": "code",
   "execution_count": 157,
   "metadata": {},
   "outputs": [
    {
     "name": "stdout",
     "output_type": "stream",
     "text": [
      "A visual display of the dataset\n",
      "+---+----+-------+----------+-------+-----------+---+-------+-------+---+------+---+---+\n",
      "| 0 | 22 | 59000 |   RENT   | 123.0 | PERSONAL  | D | 35000 | 16.02 | 1 | 0.59 | Y | 3 |\n",
      "| 1 | 21 | 9600  |   OWN    |  5.0  | EDUCATION | B | 1000  | 11.14 | 0 | 0.1  | N | 2 |\n",
      "| 2 | 25 | 9600  | MORTGAGE |  1.0  |  MEDICAL  | C | 5500  | 12.87 | 1 | 0.57 | N | 3 |\n",
      "| 3 | 23 | 65500 |   RENT   |  4.0  |  MEDICAL  | C | 35000 | 15.23 | 1 | 0.53 | N | 2 |\n",
      "| 4 | 24 | 54400 |   RENT   |  8.0  |  MEDICAL  | C | 35000 | 14.27 | 1 | 0.55 | Y | 4 |\n",
      "+---+----+-------+----------+-------+-----------+---+-------+-------+---+------+---+---+\n",
      "\n",
      "A Numeric Summary of the dataset\n",
      "+-------+-------------------+-------------------+--------------------+-------------------+--------------------+---------------------+---------------------+-------------------+\n",
      "| count |      32581.0      |      32581.0      |      31686.0       |      32581.0      |      29465.0       |       32581.0       |       32581.0       |      32581.0      |\n",
      "| mean  | 27.73459992019889 | 66074.84846996715 | 4.789686296787225  | 9589.371105859243 | 11.011694892245036 | 0.21816396059052823 | 0.1702034928332464  | 5.804211043246064 |\n",
      "|  std  | 6.348078419225359 | 61983.11916815907 | 4.1426301488878625 | 6322.086645792259 | 3.2404594649559466 | 0.4130056685601487  | 0.10678175634492382 | 4.055001164712727 |\n",
      "|  min  |       20.0        |      4000.0       |        0.0         |       500.0       |        5.42        |         0.0         |         0.0         |        2.0        |\n",
      "|  25%  |       23.0        |      38500.0      |        2.0         |      5000.0       |        7.9         |         0.0         |        0.09         |        3.0        |\n",
      "|  50%  |       26.0        |      55000.0      |        4.0         |      8000.0       |       10.99        |         0.0         |        0.15         |        4.0        |\n",
      "|  75%  |       30.0        |      79200.0      |        7.0         |      12200.0      |       13.47        |         0.0         |        0.23         |        8.0        |\n",
      "|  max  |       144.0       |     6000000.0     |       123.0        |      35000.0      |       23.22        |         1.0         |        0.83         |       30.0        |\n",
      "+-------+-------------------+-------------------+--------------------+-------------------+--------------------+---------------------+---------------------+-------------------+\n"
     ]
    }
   ],
   "source": [
    "# loading the dataset\n",
    "pd.set_option('display.max_columns', None)  \n",
    "pd.set_option('display.width', 1000)  \n",
    "df = pd.read_csv('./credit_risk_dataset.csv')\n",
    "\n",
    "view(df,nsummary=True)\n",
    "\n"
   ]
  },
  {
   "cell_type": "code",
   "execution_count": null,
   "metadata": {
    "vscode": {
     "languageId": "latex"
    }
   },
   "outputs": [],
   "source": []
  },
  {
   "cell_type": "code",
   "execution_count": null,
   "metadata": {
    "vscode": {
     "languageId": "latex"
    }
   },
   "outputs": [],
   "source": []
  }
 ],
 "metadata": {
  "kernelspec": {
   "display_name": "Python 3",
   "language": "python",
   "name": "python3"
  },
  "language_info": {
   "codemirror_mode": {
    "name": "ipython",
    "version": 3
   },
   "file_extension": ".py",
   "mimetype": "text/x-python",
   "name": "python",
   "nbconvert_exporter": "python",
   "pygments_lexer": "ipython3",
   "version": "3.12.7"
  }
 },
 "nbformat": 4,
 "nbformat_minor": 2
}
